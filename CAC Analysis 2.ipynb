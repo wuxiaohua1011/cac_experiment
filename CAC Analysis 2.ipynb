{
 "cells": [
  {
   "cell_type": "markdown",
   "metadata": {},
   "source": [
    "# CAC Analysis 2\n",
    "#### Equations\n",
    "(1) 76.55 = S<sub>M</sub> + S<sub>G</sub> + S<sub>S</sub> + S<sub>Holo</sub>  \n",
    "(2) 45.83 = S<sub>G</sub> + S<sub>S</sub> + S<sub>HP</sub> + S<sub>VR</sub>  \n",
    "(3) 87.66 = S<sub>M</sub> + S<sub>Vi</sub>  \n",
    "(4) 100 = S<sub>M</sub> + S<sub>G</sub> + S<sub>S</sub> + S<sub>HP</sub>"
   ]
  },
  {
   "cell_type": "code",
   "execution_count": 40,
   "metadata": {},
   "outputs": [],
   "source": [
    "# Setting variables up\n",
    "import sympy as sym\n",
    "from cvxopt import matrix, solvers\n",
    "M,G,S,Hp,Holo,VR,Vi = symbols('M G S Hp Holo VR Vi')"
   ]
  },
  {
   "cell_type": "code",
   "execution_count": 46,
   "metadata": {},
   "outputs": [],
   "source": [
    "def listIntToDouble(lst):\n",
    "    return [float(i) for i in lst]"
   ]
  },
  {
   "cell_type": "code",
   "execution_count": 47,
   "metadata": {},
   "outputs": [],
   "source": [
    "def nestedToDouble(nested):\n",
    "    for row in range(len(nested)):\n",
    "        nested[row] = listIntToDouble(nested[row])\n",
    "    return nested"
   ]
  },
  {
   "cell_type": "code",
   "execution_count": 41,
   "metadata": {},
   "outputs": [
    {
     "name": "stdout",
     "output_type": "stream",
     "text": [
      "M**2 + 2*M*Vi - 175.32*M + Vi**2 - 175.32*Vi + 7684.2756\n"
     ]
    }
   ],
   "source": [
    "print(sym.expand((M+Vi-87.66)**2))"
   ]
  },
  {
   "cell_type": "code",
   "execution_count": 50,
   "metadata": {
    "scrolled": false
   },
   "outputs": [
    {
     "name": "stdout",
     "output_type": "stream",
     "text": [
      "     pcost       dcost       gap    pres   dres\n",
      " 0: -1.5369e+04 -1.6469e+04  1e+03  2e-02  2e-16\n",
      " 1: -1.5369e+04 -1.5384e+04  2e+01  1e-04  7e-17\n",
      " 2: -1.5369e+04 -1.5369e+04  2e-01  1e-06  6e-17\n",
      " 3: -1.5369e+04 -1.5369e+04  2e-03  1e-08  6e-17\n",
      "Optimal solution found.\n",
      "x [ 5.82e+01]\n",
      "[ 3.00e+01]\n",
      "[ 9.10e-01]\n",
      "[ 1.09e+01]\n",
      "[-1.26e+01]\n",
      "[ 4.08e+00]\n",
      "[ 1.17e+02]\n",
      "\n",
      "y [ 1.01e-19]\n",
      "[ 5.79e-20]\n",
      "[ 1.44e-05]\n",
      "\n",
      "s [ 4.18e+01]\n",
      "[ 2.83e+01]\n",
      "[ 1.91e+01]\n",
      "[ 9.97e+00]\n",
      "[ 9.10e-01]\n",
      "\n",
      "z [ 1.00e-06]\n",
      "[ 1.54e-05]\n",
      "[ 2.98e-05]\n",
      "[ 4.42e-05]\n",
      "[ 5.86e-05]\n",
      "\n",
      "status optimal\n",
      "gap 0.0015390018181402356\n",
      "relative gap 1.0013968123034497e-07\n",
      "primal objective -15368.551199999998\n",
      "dual objective -15368.552739001738\n",
      "primal infeasibility 1.1702048600107843e-08\n",
      "dual infeasibility 5.673978141683923e-17\n",
      "primal slack 0.910310865770844\n",
      "dual slack 1.0000000000000025e-06\n",
      "iterations 3\n"
     ]
    }
   ],
   "source": [
    "# optimize with respect to Equation 3\n",
    "P = matrix([\n",
    "    [1.0,0.0,0.0,0.0,0.0,0.0,1.0],\n",
    "    [0.0,0.0,0.0,0.0,0.0,0.0,0.0],\n",
    "    [0.0,0.0,0.0,0.0,0.0,0.0,0.0],\n",
    "    [0.0,0.0,0.0,0.0,0.0,0.0,0.0],\n",
    "    [0.0,0.0,0.0,0.0,0.0,0.0,0.0],\n",
    "    [0.0,0.0,0.0,0.0,0.0,0.0,0.0],\n",
    "    [1.0,0.0,0.0,0.0,0.0,0.0,1.0],\n",
    "    ])\n",
    "q = matrix([-175.32,0,0,0,0,0,-175.32])\n",
    "\n",
    "# Variable contraints\n",
    "G = matrix(\n",
    "    [\n",
    "        [1.0,-1.0,0.0 ,0.0 ,0.0],\n",
    "        [0.0, 1.0,-1.0,0.0 ,0.0],\n",
    "        [0.0, 0.0,0.0 ,1.0 ,-1.0],\n",
    "        [0.0, 0.0,1.0 ,-1.0,0.0],\n",
    "        [0.0, 0.0,0.0 ,0.0 ,0.0],\n",
    "        [0.0, 0.0,0.0 ,0.0 ,0.0],\n",
    "        [0.0, 0.0,0.0 ,0.0 ,0.0],\n",
    "    ]\n",
    ")\n",
    "\n",
    "h = matrix([100.0,0.0,0.0,0.0,0.0])\n",
    "# Ax = b equation\n",
    "A = matrix([\n",
    "    [1.0,0.0,1.0],#M\n",
    "    [1.0,1.0,1.0],#G\n",
    "    [1.0,1.0,1.0],#S\n",
    "    [0.0,1.0,1.0],#Hp\n",
    "    [1.0,0.0,0.0],#Holo\n",
    "    [0.0,1.0,0.0],#Vr\n",
    "    [0.0,0.0,0.0],#Vi\n",
    "    ])\n",
    "b = matrix([76.55,45.83,100])\n",
    "sol=solvers.qp(P,q, G, h, A, b)\n",
    "for key in sol:\n",
    "    print(key, sol[key])"
   ]
  },
  {
   "cell_type": "code",
   "execution_count": 60,
   "metadata": {},
   "outputs": [
    {
     "name": "stdout",
     "output_type": "stream",
     "text": [
      "Equation =  G**2 + 2*G*Holo + 2*G*M + 2*G*S - 153.1*G + Holo**2 + 2*Holo*M + 2*Holo*S - 153.1*Holo + M**2 + 2*M*S - 153.1*M + S**2 - 153.1*S + 5859.9025\n",
      "     pcost       dcost       gap    pres   dres\n",
      " 0: -1.1720e+04 -1.2820e+04  1e+03  2e-02  2e-16\n",
      " 1: -1.1720e+04 -1.1735e+04  2e+01  1e-04  5e-17\n",
      " 2: -1.1720e+04 -1.1720e+04  2e-01  1e-06  4e-17\n",
      " 3: -1.1720e+04 -1.1720e+04  2e-03  1e-08  2e-17\n",
      "Optimal solution found.\n",
      "x [ 5.82e+01]\n",
      "[ 3.00e+01]\n",
      "[ 9.10e-01]\n",
      "[ 1.09e+01]\n",
      "[ 6.40e+01]\n",
      "[ 4.08e+00]\n",
      "[ 2.94e+01]\n",
      "\n",
      "y [ 8.79e-20]\n",
      "[-1.67e-19]\n",
      "[ 1.44e-05]\n",
      "\n",
      "s [ 4.18e+01]\n",
      "[ 2.83e+01]\n",
      "[ 1.91e+01]\n",
      "[ 9.97e+00]\n",
      "[ 9.10e-01]\n",
      "\n",
      "z [ 1.00e-06]\n",
      "[ 1.54e-05]\n",
      "[ 2.98e-05]\n",
      "[ 4.42e-05]\n",
      "[ 5.86e-05]\n",
      "\n",
      "status optimal\n",
      "gap 0.0015390018183917054\n",
      "relative gap 1.3131633319766885e-07\n",
      "primal objective -11719.805\n",
      "dual objective -11719.80653900174\n",
      "primal infeasibility 1.1702048648269003e-08\n",
      "dual infeasibility 2.3208476270107977e-17\n",
      "primal slack 0.9103108657764947\n",
      "dual slack 1.0000000000000025e-06\n",
      "iterations 3\n"
     ]
    }
   ],
   "source": [
    "import sympy as sym\n",
    "from cvxopt import matrix, solvers\n",
    "M,G,S,Hp,Holo,VR,Vi = symbols('M G S Hp Holo VR Vi')\n",
    "print(\"Equation = \" ,sym.expand((M+G+S+Holo-76.55)**2))\n",
    "#solving with respext to equation 1\n",
    "# optimize with respect to Equation 3\n",
    "P = [\n",
    "    [1,1,1,0,1,0,0],\n",
    "    [1,1,1,0,1,0,0],\n",
    "    [1,1,1,0,1,0,0],\n",
    "    [0,0,0,0,0,0,0],\n",
    "    [1,1,1,0,1,0,0],\n",
    "    [0,0,0,0,0,0,0],\n",
    "    [0,0,0,0,0,0,0],\n",
    "]\n",
    "P = matrix(nestedToDouble(P))\n",
    "q = matrix([-153.1,-153.1,-153.1,0,-153.1,0,0])\n",
    "# Variable contraints\n",
    "G = matrix(\n",
    "    [\n",
    "        [1.0,-1.0,0.0,0.0,0.0],\n",
    "        [0.0,1.0,-1.0,0.0,0.0],\n",
    "        [0.0,0.0,0.0,1.0,-1.0],\n",
    "        [0.0,0.0,1.0,-1.0,0.0],\n",
    "        [0.0,0.0,0.0,0.0,0.0],\n",
    "        [0.0,0.0,0.0,0.0,0.0],\n",
    "        [0.0,0.0,0.0,0.0,0.0],\n",
    "    ]\n",
    ")\n",
    "# Ax = b equation\n",
    "h = matrix([100.0,0.0,0.0,0.0,0.0])\n",
    "A = [\n",
    "    [0,1,1],#M\n",
    "    [1,0,1],#G\n",
    "    [1,0,1],#S\n",
    "    [1,0,1],#Hp\n",
    "    [0,0,0],#Holo\n",
    "    [1,0,0],#Vr\n",
    "    [0,1,0],#Vi\n",
    "    ]\n",
    "A = matrix(nestedToDouble(A))\n",
    "b = matrix([45.83,87.66,100])\n",
    "sol=solvers.qp(P,q, G, h, A, b)\n",
    "for key in sol:\n",
    "    print(key, sol[key])"
   ]
  },
  {
   "cell_type": "code",
   "execution_count": null,
   "metadata": {},
   "outputs": [],
   "source": []
  }
 ],
 "metadata": {
  "kernelspec": {
   "display_name": "Python 3",
   "language": "python",
   "name": "python3"
  },
  "language_info": {
   "codemirror_mode": {
    "name": "ipython",
    "version": 3
   },
   "file_extension": ".py",
   "mimetype": "text/x-python",
   "name": "python",
   "nbconvert_exporter": "python",
   "pygments_lexer": "ipython3",
   "version": "3.7.1"
  }
 },
 "nbformat": 4,
 "nbformat_minor": 2
}
